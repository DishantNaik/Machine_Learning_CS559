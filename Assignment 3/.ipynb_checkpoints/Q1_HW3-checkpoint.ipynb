{
 "cells": [
  {
   "cell_type": "code",
   "execution_count": 106,
   "metadata": {},
   "outputs": [],
   "source": [
    "import numpy as np\n",
    "import pandas as pd\n",
    "\n",
    "import matplotlib.pyplot as plt\n",
    "import seaborn as sns"
   ]
  },
  {
   "cell_type": "code",
   "execution_count": 118,
   "metadata": {},
   "outputs": [],
   "source": [
    "X = np.array([[5.9, 3.2], [4.6, 2.9], [6.2, 2.8], [4.7, 3.2], [5.5, 4.2], [5.0, 3.0],\n",
    "              [4.9, 3.1], [6.7, 3.1], [5.1, 3.8], [6.0, 3.0]])\n",
    "\n",
    "c1=[6.2,3.2]\n",
    "c2=[6.6,3.7]\n",
    "c3=[6.5,3.0]"
   ]
  },
  {
   "cell_type": "code",
   "execution_count": 119,
   "metadata": {},
   "outputs": [
    {
     "data": {
      "text/plain": [
       "<matplotlib.collections.PathCollection at 0x7fe14977dd30>"
      ]
     },
     "execution_count": 119,
     "metadata": {},
     "output_type": "execute_result"
    },
    {
     "data": {
      "image/png": "[encoded data removed]",
      "text/plain": [
       "<Figure size 576x576 with 1 Axes>"
      ]
     },
     "metadata": {
      "needs_background": "light"
     },
     "output_type": "display_data"
    }
   ],
   "source": [
    "# Initial Scatter plot\n",
    "fig = plt.figure(figsize=(8, 8))\n",
    "for i in X:\n",
    "    plt.scatter(i[0],i[1],c = \"black\",s=30)\n",
    "plt.title('Initial scatter plot')\n",
    "plt.scatter(c1[0],c1[1], c='red',s=60)\n",
    "plt.scatter(c2[0],c2[1],c='green',s=60)\n",
    "plt.scatter(c3[0],c3[1], c='blue',s=60)"
   ]
  },
  {
   "cell_type": "code",
   "execution_count": 120,
   "metadata": {},
   "outputs": [],
   "source": [
    "\n",
    "# def dis(i,m1,m2,m3,clustr):\n",
    "#     dis1 = np.sqrt((i[0] - m1[0]) ** 2 + (i[1] - m1[1]) ** 2)\n",
    "#     dis2 = np.sqrt((i[0] - m2[0]) ** 2 + (i[1] - m2[1]) ** 2)\n",
    "#     dis3 = np.sqrt((i[0] - m3[0]) ** 2 + (i[1] - m3[1]) ** 2)\n",
    "    \n",
    "#     mimimum = min(dis1,dis2,dis3)\n",
    "        \n",
    "#     if(dis1 == mimimum): clustr.append(1)\n",
    "#     if(dis2 == mimimum): clustr.append(2)\n",
    "#     if(dis3 == mimimum): clustr.append(3)\n",
    "# #     \n",
    "#     return(clustr)\n",
    "    "
   ]
  },
  {
   "cell_type": "code",
   "execution_count": 121,
   "metadata": {},
   "outputs": [],
   "source": [
    "# itr = 2 # Tune this variable for better out put\n",
    "# # c = [0]*10\n",
    "# # a = c.copy()\n",
    "# for t in range(0,itr):\n",
    "    \n",
    "#     clustr = []\n",
    "    \n",
    "#     for i in X:\n",
    "#         clustr = dis(i,c1,c2,c3,clustr)\n",
    "        \n",
    "#     for j in range(0,len(X)-1):\n",
    "#         if(clustr[j] == 1):\n",
    "#             c1[0] = np.mean(c1[0],X[j][0])\n",
    "#             c1[1] = np.mean(c1[1],X[j][1])\n",
    "#         if(clustr[j] == 2):\n",
    "#             c2[0] = np.mean(c2[0],X[j][0])\n",
    "#             c2[1] = np.mean(c2[1],X[j][1])\n",
    "#         if(clustr[j] == 3):\n",
    "#             c3[0] = np.mean(c3[0],X[j][0])\n",
    "#             c3[1] = np.mean(c3[1],X[j][1])\n",
    "    \n",
    "#     print(\"==============================================================================================\")\n",
    "#     print(\"Iteration\", t+1)\n",
    "#     print(clustr)\n",
    "#     print(\"Center of c1\",c1)\n",
    "#     print(\"Center of c2\",c2)\n",
    "#     print(\"Center of c3\",c3)\n",
    "#     print(\"==============================================================================================\")\n",
    "    \n",
    "    "
   ]
  },
  {
   "cell_type": "code",
   "execution_count": 122,
   "metadata": {},
   "outputs": [],
   "source": [
    "def mnX(cl):\n",
    "    tm1 = 0\n",
    "    for q in cl:\n",
    "        tm1 = tm1 + q[0] \n",
    "    return(tm1)\n",
    "\n",
    "def mnY(cl):\n",
    "    tm2 = 0\n",
    "    for w in cl:\n",
    "        tm2 = tm2 + w[1] \n",
    "    return(tm2)\n",
    "    "
   ]
  },
  {
   "cell_type": "code",
   "execution_count": 123,
   "metadata": {},
   "outputs": [
    {
     "name": "stdout",
     "output_type": "stream",
     "text": [
      "==============================================================================================\n",
      "Iteration 1\n",
      "Center of c1 [5.171428571428572, 3.1714285714285713]\n",
      "Center of c2 [5.5, 4.2]\n",
      "Center of c3 [6.45, 2.95]\n",
      "==============================================================================================\n",
      "==============================================================================================\n",
      "Iteration 2\n",
      "Center of c1 [4.800000000000001, 3.05]\n",
      "Center of c2 [5.3, 4.0]\n",
      "Center of c3 [6.2, 3.025]\n",
      "==============================================================================================\n",
      "==============================================================================================\n",
      "Iteration 3\n",
      "Center of c1 [4.800000000000001, 3.05]\n",
      "Center of c2 [5.3, 4.0]\n",
      "Center of c3 [6.2, 3.025]\n",
      "==============================================================================================\n",
      "==============================================================================================\n",
      "Iteration 4\n",
      "Center of c1 [4.800000000000001, 3.05]\n",
      "Center of c2 [5.3, 4.0]\n",
      "Center of c3 [6.2, 3.025]\n",
      "==============================================================================================\n",
      "==============================================================================================\n",
      "Iteration 5\n",
      "Center of c1 [4.800000000000001, 3.05]\n",
      "Center of c2 [5.3, 4.0]\n",
      "Center of c3 [6.2, 3.025]\n",
      "==============================================================================================\n"
     ]
    }
   ],
   "source": [
    "itr = 5\n",
    "\n",
    "\n",
    "for j in range(0,itr):\n",
    "    cl1 = []\n",
    "    cl2 = []\n",
    "    cl3 = []\n",
    "    \n",
    "    for i in X:\n",
    "        dis1 = np.sqrt((i[0] - c1[0]) ** 2 + (i[1] - c1[1]) ** 2)\n",
    "        dis2 = np.sqrt((i[0] - c2[0]) ** 2 + (i[1] - c2[1]) ** 2)\n",
    "        dis3 = np.sqrt((i[0] - c3[0]) ** 2 + (i[1] - c3[1]) ** 2)\n",
    "        \n",
    "        minimum = min(dis1,dis2,dis3)\n",
    "        \n",
    "        if(minimum == dis1): cl1.append(i)\n",
    "        if(minimum == dis2): cl2.append(i)\n",
    "        if(minimum == dis3): cl3.append(i)\n",
    "        \n",
    "#   Updating centers\n",
    "    if(len(cl1) != 0):    \n",
    "        t1X = mnX(cl1)\n",
    "        t1Y = mnY(cl1)\n",
    "        c1[0] = t1X/len(cl1)\n",
    "        c1[1] = t1Y/len(cl1)\n",
    "    \n",
    "    if(len(cl2) != 0):\n",
    "        t2X = mnX(cl2)\n",
    "        t2Y = mnY(cl2)\n",
    "        c2[0] = t2X/len(cl2)\n",
    "        c2[1] = t2Y/len(cl2)\n",
    "    \n",
    "    if(len(cl3) != 0):\n",
    "        t3X = mnX(cl3)\n",
    "        t3Y = mnY(cl3)\n",
    "        c3[0] = t3X/len(cl3)\n",
    "        c3[1] = t3Y/len(cl3)\n",
    "        \n",
    "    print(\"==============================================================================================\")\n",
    "    print(\"Iteration\", j+1)\n",
    "    print(\"Center of c1\",c1)\n",
    "    print(\"Center of c2\",c2)\n",
    "    print(\"Center of c3\",c3)\n",
    "    print(\"==============================================================================================\")"
   ]
  },
  {
   "cell_type": "code",
   "execution_count": 113,
   "metadata": {},
   "outputs": [],
   "source": [
    "# # rough cell\n",
    "# # run function for summing\n",
    "# # divide by len of cl after fun returns sum \n",
    "# tmp1,tmp2 = 0,0\n",
    "# for i in cl1:\n",
    "# #     \n",
    "#     tmp1 = tmp1 + i[0]\n",
    "#     tmp2 = tmp2 + i[1]\n",
    "\n",
    "# tmp = tmp1/len(cl1)\n",
    "# tmp"
   ]
  },
  {
   "cell_type": "code",
   "execution_count": 125,
   "metadata": {},
   "outputs": [
    {
     "data": {
      "text/plain": [
       "<matplotlib.collections.PathCollection at 0x7fe147bbb940>"
      ]
     },
     "execution_count": 125,
     "metadata": {},
     "output_type": "execute_result"
    },
    {
     "data": {
      "image/png": "[encoded data removed]",
      "text/plain": [
       "<Figure size 576x576 with 1 Axes>"
      ]
     },
     "metadata": {
      "needs_background": "light"
     },
     "output_type": "display_data"
    }
   ],
   "source": [
    "fig = plt.figure(figsize=(8, 8))\n",
    "for i in X:\n",
    "    plt.scatter(i[0],i[1],c = \"black\",s=30)\n",
    "plt.title('Final scatter plot')\n",
    "plt.scatter(c1[0],c1[1], c='red',s=60)\n",
    "plt.scatter(c2[0],c2[1],c='green',s=60)\n",
    "plt.scatter(c3[0],c3[1], c='blue',s=60)"
   ]
  },
  {
   "cell_type": "code",
   "execution_count": 52,
   "metadata": {},
   "outputs": [],
   "source": [
    "del(c1)\n",
    "del(c2)\n",
    "del(c3)"
   ]
  },
  {
   "cell_type": "code",
   "execution_count": null,
   "metadata": {},
   "outputs": [],
   "source": []
  }
 ],
 "metadata": {
  "kernelspec": {
   "display_name": "Python 3",
   "language": "python",
   "name": "python3"
  },
  "language_info": {
   "codemirror_mode": {
    "name": "ipython",
    "version": 3
   },
   "file_extension": ".py",
   "mimetype": "text/x-python",
   "name": "python",
   "nbconvert_exporter": "python",
   "pygments_lexer": "ipython3",
   "version": "3.8.3"
  }
 },
 "nbformat": 4,
 "nbformat_minor": 4
}
