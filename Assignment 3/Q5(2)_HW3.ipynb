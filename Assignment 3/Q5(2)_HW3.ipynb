{
 "cells": [
  {
   "cell_type": "code",
   "execution_count": 72,
   "metadata": {},
   "outputs": [],
   "source": [
    "import numpy as np\n",
    "import pandas as pd\n",
    "from sklearn.model_selection import train_test_split\n",
    "from sklearn.metrics import accuracy_score\n",
    "from keras.models import Sequential\n",
    "from keras.layers import Dense\n",
    "from keras.optimizers import Adam\n",
    "from sklearn.preprocessing import LabelEncoder\n",
    "import warnings\n",
    "warnings.filterwarnings('ignore')\n",
    "from sklearn.metrics import classification_report,confusion_matrix"
   ]
  },
  {
   "cell_type": "code",
   "execution_count": 73,
   "metadata": {},
   "outputs": [
    {
     "data": {
      "text/html": [
       "<div>\n",
       "<style scoped>\n",
       "    .dataframe tbody tr th:only-of-type {\n",
       "        vertical-align: middle;\n",
       "    }\n",
       "\n",
       "    .dataframe tbody tr th {\n",
       "        vertical-align: top;\n",
       "    }\n",
       "\n",
       "    .dataframe thead th {\n",
       "        text-align: right;\n",
       "    }\n",
       "</style>\n",
       "<table border=\"1\" class=\"dataframe\">\n",
       "  <thead>\n",
       "    <tr style=\"text-align: right;\">\n",
       "      <th></th>\n",
       "      <th>Sepal_Length</th>\n",
       "      <th>Sepal_Width</th>\n",
       "      <th>Petal_Length</th>\n",
       "      <th>Petal_Width</th>\n",
       "      <th>Species</th>\n",
       "    </tr>\n",
       "  </thead>\n",
       "  <tbody>\n",
       "    <tr>\n",
       "      <th>0</th>\n",
       "      <td>5.1</td>\n",
       "      <td>3.5</td>\n",
       "      <td>1.4</td>\n",
       "      <td>0.2</td>\n",
       "      <td>Iris-setosa</td>\n",
       "    </tr>\n",
       "    <tr>\n",
       "      <th>1</th>\n",
       "      <td>4.9</td>\n",
       "      <td>3.0</td>\n",
       "      <td>1.4</td>\n",
       "      <td>0.2</td>\n",
       "      <td>Iris-setosa</td>\n",
       "    </tr>\n",
       "    <tr>\n",
       "      <th>2</th>\n",
       "      <td>4.7</td>\n",
       "      <td>3.2</td>\n",
       "      <td>1.3</td>\n",
       "      <td>0.2</td>\n",
       "      <td>Iris-setosa</td>\n",
       "    </tr>\n",
       "    <tr>\n",
       "      <th>3</th>\n",
       "      <td>4.6</td>\n",
       "      <td>3.1</td>\n",
       "      <td>1.5</td>\n",
       "      <td>0.2</td>\n",
       "      <td>Iris-setosa</td>\n",
       "    </tr>\n",
       "    <tr>\n",
       "      <th>4</th>\n",
       "      <td>5.0</td>\n",
       "      <td>3.6</td>\n",
       "      <td>1.4</td>\n",
       "      <td>0.2</td>\n",
       "      <td>Iris-setosa</td>\n",
       "    </tr>\n",
       "  </tbody>\n",
       "</table>\n",
       "</div>"
      ],
      "text/plain": [
       "   Sepal_Length  Sepal_Width  Petal_Length  Petal_Width      Species\n",
       "0           5.1          3.5           1.4          0.2  Iris-setosa\n",
       "1           4.9          3.0           1.4          0.2  Iris-setosa\n",
       "2           4.7          3.2           1.3          0.2  Iris-setosa\n",
       "3           4.6          3.1           1.5          0.2  Iris-setosa\n",
       "4           5.0          3.6           1.4          0.2  Iris-setosa"
      ]
     },
     "execution_count": 73,
     "metadata": {},
     "output_type": "execute_result"
    }
   ],
   "source": [
    "df = pd.read_csv('iris.csv')\n",
    "df.head()"
   ]
  },
  {
   "cell_type": "code",
   "execution_count": 74,
   "metadata": {},
   "outputs": [
    {
     "data": {
      "text/plain": [
       "(150, 5)"
      ]
     },
     "execution_count": 74,
     "metadata": {},
     "output_type": "execute_result"
    }
   ],
   "source": [
    "df.shape"
   ]
  },
  {
   "cell_type": "code",
   "execution_count": 75,
   "metadata": {},
   "outputs": [],
   "source": [
    "X = df[['Sepal_Length','Sepal_Width','Petal_Length','Petal_Width']]\n",
    "y = df[['Species']]\n",
    "\n",
    "encoder =  LabelEncoder()\n",
    "y1 = encoder.fit_transform(y)\n",
    "Y = pd.get_dummies(y1).values"
   ]
  },
  {
   "cell_type": "code",
   "execution_count": 76,
   "metadata": {},
   "outputs": [],
   "source": [
    "X_train,X_test, y_train,y_test = train_test_split(X,Y,test_size=0.2,random_state=0)"
   ]
  },
  {
   "cell_type": "code",
   "execution_count": 77,
   "metadata": {},
   "outputs": [
    {
     "name": "stdout",
     "output_type": "stream",
     "text": [
      "(120, 4) (120, 3) (30, 4) (30, 3)\n"
     ]
    }
   ],
   "source": [
    "print(X_train.shape,y_train.shape,X_test.shape,y_test.shape)"
   ]
  },
  {
   "cell_type": "code",
   "execution_count": 78,
   "metadata": {},
   "outputs": [
    {
     "name": "stdout",
     "output_type": "stream",
     "text": [
      "Model: \"sequential_11\"\n",
      "_________________________________________________________________\n",
      "Layer (type)                 Output Shape              Param #   \n",
      "=================================================================\n",
      "dense_13 (Dense)             (None, 4)                 20        \n",
      "_________________________________________________________________\n",
      "dense_14 (Dense)             (None, 3)                 15        \n",
      "=================================================================\n",
      "Total params: 35\n",
      "Trainable params: 35\n",
      "Non-trainable params: 0\n",
      "_________________________________________________________________\n"
     ]
    }
   ],
   "source": [
    "model = Sequential()\n",
    "\n",
    "model.add(Dense(4,input_shape=(4,),activation='relu'))\n",
    "#model.add(Dense(8,activation='tanh'))\n",
    "#model.add(Dense(6,activation='tanh'))\n",
    "model.add(Dense(3,activation='softmax'))\n",
    "\n",
    "model.compile(Adam(lr=0.01),'categorical_crossentropy',metrics=['accuracy'])\n",
    "\n",
    "model.summary()"
   ]
  },
  {
   "cell_type": "code",
   "execution_count": 79,
   "metadata": {},
   "outputs": [
    {
     "name": "stdout",
     "output_type": "stream",
     "text": [
      "Epoch 1/100\n",
      "4/4 [==============================] - 0s 993us/step - loss: 1.5065 - accuracy: 0.1417\n",
      "Epoch 2/100\n",
      "4/4 [==============================] - 0s 748us/step - loss: 1.2818 - accuracy: 0.2417\n",
      "Epoch 3/100\n",
      "4/4 [==============================] - 0s 780us/step - loss: 1.1658 - accuracy: 0.3417\n",
      "Epoch 4/100\n",
      "4/4 [==============================] - 0s 1ms/step - loss: 1.1420 - accuracy: 0.3167\n",
      "Epoch 5/100\n",
      "4/4 [==============================] - 0s 887us/step - loss: 1.1300 - accuracy: 0.2167\n",
      "Epoch 6/100\n",
      "4/4 [==============================] - 0s 1ms/step - loss: 1.1182 - accuracy: 0.1417\n",
      "Epoch 7/100\n",
      "4/4 [==============================] - 0s 1ms/step - loss: 1.1106 - accuracy: 0.1083\n",
      "Epoch 8/100\n",
      "4/4 [==============================] - 0s 940us/step - loss: 1.1048 - accuracy: 0.3583\n",
      "Epoch 9/100\n",
      "4/4 [==============================] - 0s 1ms/step - loss: 1.1002 - accuracy: 0.3583\n",
      "Epoch 10/100\n",
      "4/4 [==============================] - 0s 1ms/step - loss: 1.0956 - accuracy: 0.3583\n",
      "Epoch 11/100\n",
      "4/4 [==============================] - 0s 807us/step - loss: 1.0921 - accuracy: 0.3417\n",
      "Epoch 12/100\n",
      "4/4 [==============================] - 0s 906us/step - loss: 1.0878 - accuracy: 0.3417\n",
      "Epoch 13/100\n",
      "4/4 [==============================] - 0s 1ms/step - loss: 1.0817 - accuracy: 0.3583\n",
      "Epoch 14/100\n",
      "4/4 [==============================] - 0s 1ms/step - loss: 1.0728 - accuracy: 0.3667\n",
      "Epoch 15/100\n",
      "4/4 [==============================] - 0s 966us/step - loss: 1.0607 - accuracy: 0.4167\n",
      "Epoch 16/100\n",
      "4/4 [==============================] - 0s 1ms/step - loss: 1.0443 - accuracy: 0.4917\n",
      "Epoch 17/100\n",
      "4/4 [==============================] - 0s 866us/step - loss: 1.0255 - accuracy: 0.5500\n",
      "Epoch 18/100\n",
      "4/4 [==============================] - 0s 1ms/step - loss: 1.0047 - accuracy: 0.6167\n",
      "Epoch 19/100\n",
      "4/4 [==============================] - 0s 800us/step - loss: 0.9826 - accuracy: 0.6250\n",
      "Epoch 20/100\n",
      "4/4 [==============================] - 0s 1ms/step - loss: 0.9578 - accuracy: 0.5917\n",
      "Epoch 21/100\n",
      "4/4 [==============================] - 0s 783us/step - loss: 0.9282 - accuracy: 0.5333\n",
      "Epoch 22/100\n",
      "4/4 [==============================] - 0s 1ms/step - loss: 0.8983 - accuracy: 0.4583\n",
      "Epoch 23/100\n",
      "4/4 [==============================] - 0s 869us/step - loss: 0.8702 - accuracy: 0.4000\n",
      "Epoch 24/100\n",
      "4/4 [==============================] - 0s 1ms/step - loss: 0.8389 - accuracy: 0.6000\n",
      "Epoch 25/100\n",
      "4/4 [==============================] - 0s 958us/step - loss: 0.8109 - accuracy: 0.6917\n",
      "Epoch 26/100\n",
      "4/4 [==============================] - 0s 1ms/step - loss: 0.7827 - accuracy: 0.6917\n",
      "Epoch 27/100\n",
      "4/4 [==============================] - 0s 934us/step - loss: 0.7581 - accuracy: 0.6917\n",
      "Epoch 28/100\n",
      "4/4 [==============================] - 0s 1ms/step - loss: 0.7350 - accuracy: 0.6917\n",
      "Epoch 29/100\n",
      "4/4 [==============================] - 0s 1ms/step - loss: 0.7139 - accuracy: 0.6917\n",
      "Epoch 30/100\n",
      "4/4 [==============================] - 0s 1ms/step - loss: 0.6944 - accuracy: 0.6917\n",
      "Epoch 31/100\n",
      "4/4 [==============================] - 0s 901us/step - loss: 0.6767 - accuracy: 0.6917\n",
      "Epoch 32/100\n",
      "4/4 [==============================] - 0s 810us/step - loss: 0.6611 - accuracy: 0.6917\n",
      "Epoch 33/100\n",
      "4/4 [==============================] - 0s 726us/step - loss: 0.6469 - accuracy: 0.6917\n",
      "Epoch 34/100\n",
      "4/4 [==============================] - 0s 1ms/step - loss: 0.6345 - accuracy: 0.6917\n",
      "Epoch 35/100\n",
      "4/4 [==============================] - 0s 896us/step - loss: 0.6230 - accuracy: 0.6917\n",
      "Epoch 36/100\n",
      "4/4 [==============================] - 0s 907us/step - loss: 0.6127 - accuracy: 0.6917\n",
      "Epoch 37/100\n",
      "4/4 [==============================] - 0s 953us/step - loss: 0.6035 - accuracy: 0.6917\n",
      "Epoch 38/100\n",
      "4/4 [==============================] - 0s 727us/step - loss: 0.5954 - accuracy: 0.6917\n",
      "Epoch 39/100\n",
      "4/4 [==============================] - 0s 1ms/step - loss: 0.5880 - accuracy: 0.6917\n",
      "Epoch 40/100\n",
      "4/4 [==============================] - 0s 925us/step - loss: 0.5812 - accuracy: 0.6917\n",
      "Epoch 41/100\n",
      "4/4 [==============================] - 0s 1ms/step - loss: 0.5750 - accuracy: 0.6917\n",
      "Epoch 42/100\n",
      "4/4 [==============================] - 0s 1ms/step - loss: 0.5694 - accuracy: 0.6917\n",
      "Epoch 43/100\n",
      "4/4 [==============================] - 0s 895us/step - loss: 0.5644 - accuracy: 0.6917\n",
      "Epoch 44/100\n",
      "4/4 [==============================] - 0s 1ms/step - loss: 0.5597 - accuracy: 0.6917\n",
      "Epoch 45/100\n",
      "4/4 [==============================] - 0s 852us/step - loss: 0.5556 - accuracy: 0.6917\n",
      "Epoch 46/100\n",
      "4/4 [==============================] - 0s 829us/step - loss: 0.5513 - accuracy: 0.6917\n",
      "Epoch 47/100\n",
      "4/4 [==============================] - 0s 950us/step - loss: 0.5477 - accuracy: 0.6917\n",
      "Epoch 48/100\n",
      "4/4 [==============================] - 0s 743us/step - loss: 0.5443 - accuracy: 0.6917\n",
      "Epoch 49/100\n",
      "4/4 [==============================] - 0s 1ms/step - loss: 0.5411 - accuracy: 0.6917\n",
      "Epoch 50/100\n",
      "4/4 [==============================] - 0s 1ms/step - loss: 0.5382 - accuracy: 0.6917\n",
      "Epoch 51/100\n",
      "4/4 [==============================] - 0s 654us/step - loss: 0.5352 - accuracy: 0.6917\n",
      "Epoch 52/100\n",
      "4/4 [==============================] - 0s 737us/step - loss: 0.5327 - accuracy: 0.6917\n",
      "Epoch 53/100\n",
      "4/4 [==============================] - 0s 1ms/step - loss: 0.5302 - accuracy: 0.6917\n",
      "Epoch 54/100\n",
      "4/4 [==============================] - 0s 1ms/step - loss: 0.5279 - accuracy: 0.6917\n",
      "Epoch 55/100\n",
      "4/4 [==============================] - 0s 1ms/step - loss: 0.5258 - accuracy: 0.6917\n",
      "Epoch 56/100\n",
      "4/4 [==============================] - 0s 788us/step - loss: 0.5237 - accuracy: 0.6917\n",
      "Epoch 57/100\n",
      "4/4 [==============================] - 0s 1ms/step - loss: 0.5217 - accuracy: 0.6917\n",
      "Epoch 58/100\n",
      "4/4 [==============================] - 0s 727us/step - loss: 0.5200 - accuracy: 0.6917\n",
      "Epoch 59/100\n",
      "4/4 [==============================] - 0s 1ms/step - loss: 0.5182 - accuracy: 0.6917\n",
      "Epoch 60/100\n",
      "4/4 [==============================] - 0s 1ms/step - loss: 0.5166 - accuracy: 0.6917\n",
      "Epoch 61/100\n",
      "4/4 [==============================] - 0s 1ms/step - loss: 0.5150 - accuracy: 0.6917\n",
      "Epoch 62/100\n",
      "4/4 [==============================] - 0s 2ms/step - loss: 0.5135 - accuracy: 0.6917\n",
      "Epoch 63/100\n",
      "4/4 [==============================] - 0s 966us/step - loss: 0.5120 - accuracy: 0.6917\n",
      "Epoch 64/100\n",
      "4/4 [==============================] - 0s 1ms/step - loss: 0.5109 - accuracy: 0.6917\n",
      "Epoch 65/100\n",
      "4/4 [==============================] - 0s 873us/step - loss: 0.5094 - accuracy: 0.6917\n",
      "Epoch 66/100\n",
      "4/4 [==============================] - 0s 1ms/step - loss: 0.5083 - accuracy: 0.6917\n",
      "Epoch 67/100\n",
      "4/4 [==============================] - 0s 841us/step - loss: 0.5071 - accuracy: 0.6917\n",
      "Epoch 68/100\n",
      "4/4 [==============================] - 0s 1ms/step - loss: 0.5061 - accuracy: 0.6917\n",
      "Epoch 69/100\n",
      "4/4 [==============================] - 0s 778us/step - loss: 0.5049 - accuracy: 0.6917\n",
      "Epoch 70/100\n",
      "4/4 [==============================] - 0s 969us/step - loss: 0.5040 - accuracy: 0.6917\n",
      "Epoch 71/100\n",
      "4/4 [==============================] - 0s 940us/step - loss: 0.5028 - accuracy: 0.6917\n",
      "Epoch 72/100\n",
      "4/4 [==============================] - 0s 1ms/step - loss: 0.5018 - accuracy: 0.6917\n",
      "Epoch 73/100\n",
      "4/4 [==============================] - 0s 1ms/step - loss: 0.5010 - accuracy: 0.6917\n",
      "Epoch 74/100\n",
      "4/4 [==============================] - 0s 827us/step - loss: 0.5000 - accuracy: 0.6917\n",
      "Epoch 75/100\n",
      "4/4 [==============================] - 0s 733us/step - loss: 0.4991 - accuracy: 0.6917\n",
      "Epoch 76/100\n",
      "4/4 [==============================] - 0s 880us/step - loss: 0.4982 - accuracy: 0.6917\n",
      "Epoch 77/100\n",
      "4/4 [==============================] - 0s 887us/step - loss: 0.4973 - accuracy: 0.6917\n",
      "Epoch 78/100\n",
      "4/4 [==============================] - 0s 1ms/step - loss: 0.4966 - accuracy: 0.6917\n",
      "Epoch 79/100\n",
      "4/4 [==============================] - 0s 918us/step - loss: 0.4957 - accuracy: 0.6917\n",
      "Epoch 80/100\n",
      "4/4 [==============================] - 0s 726us/step - loss: 0.4949 - accuracy: 0.6917\n",
      "Epoch 81/100\n",
      "4/4 [==============================] - 0s 1ms/step - loss: 0.4941 - accuracy: 0.6917\n",
      "Epoch 82/100\n",
      "4/4 [==============================] - 0s 790us/step - loss: 0.4932 - accuracy: 0.6917\n",
      "Epoch 83/100\n"
     ]
    },
    {
     "name": "stdout",
     "output_type": "stream",
     "text": [
      "4/4 [==============================] - 0s 1ms/step - loss: 0.4922 - accuracy: 0.7000\n",
      "Epoch 84/100\n",
      "4/4 [==============================] - 0s 957us/step - loss: 0.4915 - accuracy: 0.7000\n",
      "Epoch 85/100\n",
      "4/4 [==============================] - 0s 843us/step - loss: 0.4902 - accuracy: 0.7083\n",
      "Epoch 86/100\n",
      "4/4 [==============================] - 0s 903us/step - loss: 0.4892 - accuracy: 0.7083\n",
      "Epoch 87/100\n",
      "4/4 [==============================] - 0s 883us/step - loss: 0.4879 - accuracy: 0.7083\n",
      "Epoch 88/100\n",
      "4/4 [==============================] - 0s 910us/step - loss: 0.4865 - accuracy: 0.7083\n",
      "Epoch 89/100\n",
      "4/4 [==============================] - 0s 839us/step - loss: 0.4847 - accuracy: 0.7417\n",
      "Epoch 90/100\n",
      "4/4 [==============================] - 0s 898us/step - loss: 0.4827 - accuracy: 0.7667\n",
      "Epoch 91/100\n",
      "4/4 [==============================] - 0s 805us/step - loss: 0.4802 - accuracy: 0.8000\n",
      "Epoch 92/100\n",
      "4/4 [==============================] - 0s 867us/step - loss: 0.4768 - accuracy: 0.8167\n",
      "Epoch 93/100\n",
      "4/4 [==============================] - 0s 922us/step - loss: 0.4720 - accuracy: 0.8583\n",
      "Epoch 94/100\n",
      "4/4 [==============================] - 0s 783us/step - loss: 0.4669 - accuracy: 0.8583\n",
      "Epoch 95/100\n",
      "4/4 [==============================] - 0s 876us/step - loss: 0.4595 - accuracy: 0.9000\n",
      "Epoch 96/100\n",
      "4/4 [==============================] - 0s 842us/step - loss: 0.4496 - accuracy: 0.9250\n",
      "Epoch 97/100\n",
      "4/4 [==============================] - 0s 805us/step - loss: 0.4395 - accuracy: 0.9333\n",
      "Epoch 98/100\n",
      "4/4 [==============================] - 0s 891us/step - loss: 0.4279 - accuracy: 0.9500\n",
      "Epoch 99/100\n",
      "4/4 [==============================] - 0s 688us/step - loss: 0.4149 - accuracy: 0.9583\n",
      "Epoch 100/100\n",
      "4/4 [==============================] - 0s 905us/step - loss: 0.4014 - accuracy: 0.9667\n"
     ]
    },
    {
     "data": {
      "text/plain": [
       "<tensorflow.python.keras.callbacks.History at 0x7fb21189daf0>"
      ]
     },
     "execution_count": 79,
     "metadata": {},
     "output_type": "execute_result"
    }
   ],
   "source": [
    "model.fit(X_train,y_train,epochs=100)"
   ]
  },
  {
   "cell_type": "code",
   "execution_count": 80,
   "metadata": {},
   "outputs": [],
   "source": [
    "y_pred = model.predict(X_test)\n",
    "y_test_class = np.argmax(y_test,axis=1)\n",
    "y_pred_class = np.argmax(y_pred,axis=1)"
   ]
  },
  {
   "cell_type": "code",
   "execution_count": 81,
   "metadata": {},
   "outputs": [
    {
     "name": "stdout",
     "output_type": "stream",
     "text": [
      "              precision    recall  f1-score   support\n",
      "\n",
      "           0       1.00      1.00      1.00        11\n",
      "           1       1.00      0.92      0.96        13\n",
      "           2       0.86      1.00      0.92         6\n",
      "\n",
      "    accuracy                           0.97        30\n",
      "   macro avg       0.95      0.97      0.96        30\n",
      "weighted avg       0.97      0.97      0.97        30\n",
      "\n"
     ]
    }
   ],
   "source": [
    "print(classification_report(y_test_class,y_pred_class))"
   ]
  },
  {
   "cell_type": "code",
   "execution_count": 82,
   "metadata": {},
   "outputs": [
    {
     "name": "stdout",
     "output_type": "stream",
     "text": [
      "[[11  0  0]\n",
      " [ 0 12  1]\n",
      " [ 0  0  6]]\n"
     ]
    }
   ],
   "source": [
    "print(confusion_matrix(y_test_class,y_pred_class))"
   ]
  },
  {
   "cell_type": "code",
   "execution_count": 83,
   "metadata": {},
   "outputs": [
    {
     "name": "stdout",
     "output_type": "stream",
     "text": [
      "Accuracy:  96.66666666666667 %\n"
     ]
    }
   ],
   "source": [
    "acc = accuracy_score(y_true = y_test_class,y_pred =y_pred_class)*100\n",
    "print(\"Accuracy: \", acc, \"%\")"
   ]
  },
  {
   "cell_type": "code",
   "execution_count": null,
   "metadata": {},
   "outputs": [],
   "source": []
  },
  {
   "cell_type": "code",
   "execution_count": 84,
   "metadata": {},
   "outputs": [],
   "source": [
    "# colsX = ['Sepal_Length','Sepal_Width','Petal_Length','Petal_Width']\n",
    "# colsy = ['Species']\n",
    "# X = df[colsX]\n",
    "# y = df[colsy]"
   ]
  },
  {
   "cell_type": "code",
   "execution_count": 85,
   "metadata": {},
   "outputs": [],
   "source": [
    "# train_x, test_x, train_y, test_y = train_test_split(X, y, test_size=0.20)"
   ]
  },
  {
   "cell_type": "code",
   "execution_count": 38,
   "metadata": {},
   "outputs": [],
   "source": [
    "# model = Sequential()\n",
    "# model.add(Dense(10, input_dim=4, activation='relu', name='fc1'))\n",
    "# model.add(Dense(10, activation='relu', name='fc2'))\n",
    "# model.add(Dense(3, activation='softmax', name='output'))"
   ]
  },
  {
   "cell_type": "code",
   "execution_count": 39,
   "metadata": {},
   "outputs": [],
   "source": [
    "# optimizer = Adam(lr=0.001)\n",
    "# model.compile(optimizer, loss='categorical_crossentropy', metrics=['accuracy'])"
   ]
  },
  {
   "cell_type": "code",
   "execution_count": 40,
   "metadata": {},
   "outputs": [],
   "source": [
    "# print(model.summary())"
   ]
  },
  {
   "cell_type": "code",
   "execution_count": 41,
   "metadata": {},
   "outputs": [],
   "source": [
    "# model.fit(train_x, train_y, batch_size=5, epochs=200)"
   ]
  },
  {
   "cell_type": "code",
   "execution_count": null,
   "metadata": {},
   "outputs": [],
   "source": []
  }
 ],
 "metadata": {
  "kernelspec": {
   "display_name": "Python 3",
   "language": "python",
   "name": "python3"
  },
  "language_info": {
   "codemirror_mode": {
    "name": "ipython",
    "version": 3
   },
   "file_extension": ".py",
   "mimetype": "text/x-python",
   "name": "python",
   "nbconvert_exporter": "python",
   "pygments_lexer": "ipython3",
   "version": "3.8.3"
  }
 },
 "nbformat": 4,
 "nbformat_minor": 4
}
